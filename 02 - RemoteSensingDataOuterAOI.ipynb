{
 "cells": [
  {
   "cell_type": "markdown",
   "metadata": {
    "pycharm": {
     "name": "#%% md\n"
    }
   },
   "source": [
    "# Sentinel 2 Spatial Data\n",
    "Download spatial data and calculate vegetation index that is not inside the Black Forest AOI\n",
    "\n",
    "Source:\n",
    "- [Planetary Computer](https://planetarycomputer.microsoft.com/docs/overview/about)\n",
    "\n"
   ]
  },
  {
   "cell_type": "code",
   "execution_count": 1,
   "metadata": {
    "execution": {
     "iopub.execute_input": "2022-06-07T18:52:31.634719Z",
     "iopub.status.busy": "2022-06-07T18:52:31.634719Z",
     "iopub.status.idle": "2022-06-07T18:52:31.639719Z",
     "shell.execute_reply": "2022-06-07T18:52:31.639719Z",
     "shell.execute_reply.started": "2022-06-07T18:52:31.634719Z"
    },
    "pycharm": {
     "name": "#%%\n"
    },
    "tags": []
   },
   "outputs": [],
   "source": [
    "import warnings\n",
    "warnings.filterwarnings('ignore')"
   ]
  },
  {
   "cell_type": "code",
   "execution_count": 2,
   "metadata": {
    "execution": {
     "iopub.execute_input": "2022-06-07T18:52:31.641720Z",
     "iopub.status.busy": "2022-06-07T18:52:31.641720Z",
     "iopub.status.idle": "2022-06-07T18:52:36.866709Z",
     "shell.execute_reply": "2022-06-07T18:52:36.866709Z",
     "shell.execute_reply.started": "2022-06-07T18:52:31.641720Z"
    },
    "pycharm": {
     "name": "#%%\n"
    },
    "tags": []
   },
   "outputs": [],
   "source": [
    "import pandas as pd\n",
    "import numpy as np\n",
    "import ipyleaflet\n",
    "\n",
    "import planetary_computer as pc\n",
    "\n",
    "import pystac_client\n",
    "import geopandas as gpd\n",
    "from satstac import Item, ItemCollection\n",
    "import intake_stac\n",
    "\n",
    "import rasterio\n",
    "import rioxarray\n",
    "import xarray\n",
    "\n",
    "import dask\n",
    "from dask import compute, delayed\n",
    "from dask.distributed import Client\n",
    "\n",
    "import datetime\n",
    "import calendar\n",
    "import re\n",
    "import os\n",
    "\n",
    "pd.set_option(\"display.max_columns\", None)"
   ]
  },
  {
   "cell_type": "code",
   "execution_count": 3,
   "metadata": {
    "execution": {
     "iopub.execute_input": "2022-06-07T18:52:36.866709Z",
     "iopub.status.busy": "2022-06-07T18:52:36.866709Z",
     "iopub.status.idle": "2022-06-07T18:52:47.866087Z",
     "shell.execute_reply": "2022-06-07T18:52:47.866087Z",
     "shell.execute_reply.started": "2022-06-07T18:52:36.866709Z"
    },
    "pycharm": {
     "name": "#%%\n"
    },
    "tags": []
   },
   "outputs": [],
   "source": [
    "client = Client(n_workers=58)"
   ]
  },
  {
   "cell_type": "code",
   "execution_count": 4,
   "metadata": {
    "execution": {
     "iopub.execute_input": "2022-06-07T18:52:47.866087Z",
     "iopub.status.busy": "2022-06-07T18:52:47.866087Z",
     "iopub.status.idle": "2022-06-07T18:52:47.881713Z",
     "shell.execute_reply": "2022-06-07T18:52:47.881713Z",
     "shell.execute_reply.started": "2022-06-07T18:52:47.866087Z"
    },
    "pycharm": {
     "name": "#%%\n"
    },
    "tags": []
   },
   "outputs": [],
   "source": [
    "BASE_DIR = \"./data/monthly ndvi\"\n",
    "AOI = \"observations\""
   ]
  },
  {
   "cell_type": "markdown",
   "metadata": {
    "pycharm": {
     "name": "#%% md\n"
    }
   },
   "source": [
    "## Planetary Computer Interface"
   ]
  },
  {
   "cell_type": "code",
   "execution_count": 5,
   "metadata": {
    "execution": {
     "iopub.execute_input": "2022-06-07T18:52:47.881713Z",
     "iopub.status.busy": "2022-06-07T18:52:47.881713Z",
     "iopub.status.idle": "2022-06-07T18:52:57.553311Z",
     "shell.execute_reply": "2022-06-07T18:52:57.552311Z",
     "shell.execute_reply.started": "2022-06-07T18:52:47.881713Z"
    },
    "pycharm": {
     "name": "#%%\n"
    },
    "tags": []
   },
   "outputs": [
    {
     "name": "stdout",
     "output_type": "stream",
     "text": [
      "sentinel-1-grd            \t- Sentinel 1 Level-1 Ground Range Detected (GRD)\n",
      "sentinel-1-rtc            \t- Sentinel 1 Radiometrically Terrain Corrected (RTC)\n",
      "landsat-8-c2-l2           \t- Landsat 8 Collection 2 Level-2\n",
      "sentinel-2-l2a            \t- Sentinel-2 Level-2A\n",
      "landsat-c2-l1             \t- Landsat Collection 2 Level-1\n",
      "landsat-c2-l2             \t- Landsat Collection 2 Level-2\n"
     ]
    },
    {
     "data": {
      "text/html": [
       "<div>\n",
       "<style scoped>\n",
       "    .dataframe tbody tr th:only-of-type {\n",
       "        vertical-align: middle;\n",
       "    }\n",
       "\n",
       "    .dataframe tbody tr th {\n",
       "        vertical-align: top;\n",
       "    }\n",
       "\n",
       "    .dataframe thead th {\n",
       "        text-align: right;\n",
       "    }\n",
       "</style>\n",
       "<table border=\"1\" class=\"dataframe\">\n",
       "  <thead>\n",
       "    <tr style=\"text-align: right;\">\n",
       "      <th></th>\n",
       "      <th>name</th>\n",
       "      <th>description</th>\n",
       "      <th>gsd</th>\n",
       "      <th>common_name</th>\n",
       "      <th>center_wavelength</th>\n",
       "      <th>full_width_half_max</th>\n",
       "    </tr>\n",
       "  </thead>\n",
       "  <tbody>\n",
       "    <tr>\n",
       "      <th>0</th>\n",
       "      <td>AOT</td>\n",
       "      <td>aerosol optical thickness</td>\n",
       "      <td>NaN</td>\n",
       "      <td>NaN</td>\n",
       "      <td>NaN</td>\n",
       "      <td>NaN</td>\n",
       "    </tr>\n",
       "    <tr>\n",
       "      <th>1</th>\n",
       "      <td>B01</td>\n",
       "      <td>coastal aerosol</td>\n",
       "      <td>60.0</td>\n",
       "      <td>coastal</td>\n",
       "      <td>0.443</td>\n",
       "      <td>0.027</td>\n",
       "    </tr>\n",
       "    <tr>\n",
       "      <th>2</th>\n",
       "      <td>B02</td>\n",
       "      <td>visible blue</td>\n",
       "      <td>10.0</td>\n",
       "      <td>blue</td>\n",
       "      <td>0.490</td>\n",
       "      <td>0.098</td>\n",
       "    </tr>\n",
       "    <tr>\n",
       "      <th>3</th>\n",
       "      <td>B03</td>\n",
       "      <td>visible green</td>\n",
       "      <td>10.0</td>\n",
       "      <td>green</td>\n",
       "      <td>0.560</td>\n",
       "      <td>0.045</td>\n",
       "    </tr>\n",
       "    <tr>\n",
       "      <th>4</th>\n",
       "      <td>B04</td>\n",
       "      <td>visible red</td>\n",
       "      <td>10.0</td>\n",
       "      <td>red</td>\n",
       "      <td>0.665</td>\n",
       "      <td>0.038</td>\n",
       "    </tr>\n",
       "    <tr>\n",
       "      <th>5</th>\n",
       "      <td>B05</td>\n",
       "      <td>vegetation classification red edge</td>\n",
       "      <td>20.0</td>\n",
       "      <td>rededge</td>\n",
       "      <td>0.704</td>\n",
       "      <td>0.019</td>\n",
       "    </tr>\n",
       "    <tr>\n",
       "      <th>6</th>\n",
       "      <td>B06</td>\n",
       "      <td>vegetation classification red edge</td>\n",
       "      <td>20.0</td>\n",
       "      <td>rededge</td>\n",
       "      <td>0.740</td>\n",
       "      <td>0.018</td>\n",
       "    </tr>\n",
       "    <tr>\n",
       "      <th>7</th>\n",
       "      <td>B07</td>\n",
       "      <td>vegetation classification red edge</td>\n",
       "      <td>20.0</td>\n",
       "      <td>rededge</td>\n",
       "      <td>0.783</td>\n",
       "      <td>0.028</td>\n",
       "    </tr>\n",
       "    <tr>\n",
       "      <th>8</th>\n",
       "      <td>B08</td>\n",
       "      <td>near infrared</td>\n",
       "      <td>10.0</td>\n",
       "      <td>nir</td>\n",
       "      <td>0.842</td>\n",
       "      <td>0.145</td>\n",
       "    </tr>\n",
       "    <tr>\n",
       "      <th>9</th>\n",
       "      <td>B8A</td>\n",
       "      <td>vegetation classification red edge</td>\n",
       "      <td>20.0</td>\n",
       "      <td>rededge</td>\n",
       "      <td>0.865</td>\n",
       "      <td>0.033</td>\n",
       "    </tr>\n",
       "    <tr>\n",
       "      <th>10</th>\n",
       "      <td>B09</td>\n",
       "      <td>water vapor</td>\n",
       "      <td>60.0</td>\n",
       "      <td>NaN</td>\n",
       "      <td>0.945</td>\n",
       "      <td>0.026</td>\n",
       "    </tr>\n",
       "    <tr>\n",
       "      <th>11</th>\n",
       "      <td>B11</td>\n",
       "      <td>short-wave infrared, snow/ice/cloud classifica...</td>\n",
       "      <td>20.0</td>\n",
       "      <td>swir16</td>\n",
       "      <td>1.610</td>\n",
       "      <td>0.143</td>\n",
       "    </tr>\n",
       "    <tr>\n",
       "      <th>12</th>\n",
       "      <td>B12</td>\n",
       "      <td>short-wave infrared, snow/ice/cloud classifica...</td>\n",
       "      <td>20.0</td>\n",
       "      <td>swir22</td>\n",
       "      <td>2.190</td>\n",
       "      <td>0.242</td>\n",
       "    </tr>\n",
       "  </tbody>\n",
       "</table>\n",
       "</div>"
      ],
      "text/plain": [
       "   name                                        description   gsd common_name  \\\n",
       "0   AOT                          aerosol optical thickness   NaN         NaN   \n",
       "1   B01                                    coastal aerosol  60.0     coastal   \n",
       "2   B02                                       visible blue  10.0        blue   \n",
       "3   B03                                      visible green  10.0       green   \n",
       "4   B04                                        visible red  10.0         red   \n",
       "5   B05                 vegetation classification red edge  20.0     rededge   \n",
       "6   B06                 vegetation classification red edge  20.0     rededge   \n",
       "7   B07                 vegetation classification red edge  20.0     rededge   \n",
       "8   B08                                      near infrared  10.0         nir   \n",
       "9   B8A                 vegetation classification red edge  20.0     rededge   \n",
       "10  B09                                        water vapor  60.0         NaN   \n",
       "11  B11  short-wave infrared, snow/ice/cloud classifica...  20.0      swir16   \n",
       "12  B12  short-wave infrared, snow/ice/cloud classifica...  20.0      swir22   \n",
       "\n",
       "    center_wavelength  full_width_half_max  \n",
       "0                 NaN                  NaN  \n",
       "1               0.443                0.027  \n",
       "2               0.490                0.098  \n",
       "3               0.560                0.045  \n",
       "4               0.665                0.038  \n",
       "5               0.704                0.019  \n",
       "6               0.740                0.018  \n",
       "7               0.783                0.028  \n",
       "8               0.842                0.145  \n",
       "9               0.865                0.033  \n",
       "10              0.945                0.026  \n",
       "11              1.610                0.143  \n",
       "12              2.190                0.242  "
      ]
     },
     "execution_count": 5,
     "metadata": {},
     "output_type": "execute_result"
    }
   ],
   "source": [
    "# get catalog from planetary computer\n",
    "catalog = pystac_client.Client.open(\"https://planetarycomputer.microsoft.com/api/stac/v1/\")\n",
    "\n",
    "# explre available collections on planetary computer\n",
    "collections = catalog.get_children()\n",
    "for collection in collections:\n",
    "    if 'landsat' in collection.title.lower() or 'sentinel' in collection.title.lower():\n",
    "        print(f\"{collection.id:<25} \\t- {collection.title}\")\n",
    "        \n",
    "COLLECTION = \"sentinel-2-l2a\"\n",
    "\n",
    "collection_childs = catalog.get_child(COLLECTION)\n",
    "bands = pd.json_normalize(collection_childs.extra_fields[\"summaries\"][\"eo:bands\"])\n",
    "bands"
   ]
  },
  {
   "cell_type": "markdown",
   "metadata": {
    "pycharm": {
     "name": "#%% md\n"
    }
   },
   "source": [
    "### Area of Interest\n",
    "Download data that intersects with AOI"
   ]
  },
  {
   "cell_type": "code",
   "execution_count": 6,
   "metadata": {
    "execution": {
     "iopub.execute_input": "2022-06-07T18:52:57.554314Z",
     "iopub.status.busy": "2022-06-07T18:52:57.554314Z",
     "iopub.status.idle": "2022-06-07T18:52:58.238253Z",
     "shell.execute_reply": "2022-06-07T18:52:58.207250Z",
     "shell.execute_reply.started": "2022-06-07T18:52:57.554314Z"
    },
    "pycharm": {
     "name": "#%%\n"
    },
    "tags": []
   },
   "outputs": [
    {
     "data": {
      "text/html": [
       "<div>\n",
       "<style scoped>\n",
       "    .dataframe tbody tr th:only-of-type {\n",
       "        vertical-align: middle;\n",
       "    }\n",
       "\n",
       "    .dataframe tbody tr th {\n",
       "        vertical-align: top;\n",
       "    }\n",
       "\n",
       "    .dataframe thead th {\n",
       "        text-align: right;\n",
       "    }\n",
       "</style>\n",
       "<table border=\"1\" class=\"dataframe\">\n",
       "  <thead>\n",
       "    <tr style=\"text-align: right;\">\n",
       "      <th></th>\n",
       "      <th>id</th>\n",
       "      <th>count_trees</th>\n",
       "      <th>geometry</th>\n",
       "    </tr>\n",
       "  </thead>\n",
       "  <tbody>\n",
       "    <tr>\n",
       "      <th>0</th>\n",
       "      <td>BW_18A</td>\n",
       "      <td>162</td>\n",
       "      <td>POLYGON ((8.37418 48.01841, 8.37414 48.01775, ...</td>\n",
       "    </tr>\n",
       "    <tr>\n",
       "      <th>1</th>\n",
       "      <td>BW_13A</td>\n",
       "      <td>154</td>\n",
       "      <td>POLYGON ((9.66377 48.94567, 9.66371 48.94500, ...</td>\n",
       "    </tr>\n",
       "    <tr>\n",
       "      <th>2</th>\n",
       "      <td>BW_11A</td>\n",
       "      <td>145</td>\n",
       "      <td>POLYGON ((8.53432 48.36555, 8.53428 48.36489, ...</td>\n",
       "    </tr>\n",
       "    <tr>\n",
       "      <th>3</th>\n",
       "      <td>BY_90754</td>\n",
       "      <td>144</td>\n",
       "      <td>POLYGON ((11.89871 49.36668, 11.89862 49.36603...</td>\n",
       "    </tr>\n",
       "    <tr>\n",
       "      <th>4</th>\n",
       "      <td>ST_150061</td>\n",
       "      <td>144</td>\n",
       "      <td>POLYGON ((11.73014 52.43167, 11.73005 52.43101...</td>\n",
       "    </tr>\n",
       "  </tbody>\n",
       "</table>\n",
       "</div>"
      ],
      "text/plain": [
       "          id  count_trees                                           geometry\n",
       "0     BW_18A          162  POLYGON ((8.37418 48.01841, 8.37414 48.01775, ...\n",
       "1     BW_13A          154  POLYGON ((9.66377 48.94567, 9.66371 48.94500, ...\n",
       "2     BW_11A          145  POLYGON ((8.53432 48.36555, 8.53428 48.36489, ...\n",
       "3   BY_90754          144  POLYGON ((11.89871 49.36668, 11.89862 49.36603...\n",
       "4  ST_150061          144  POLYGON ((11.73014 52.43167, 11.73005 52.43101..."
      ]
     },
     "execution_count": 6,
     "metadata": {},
     "output_type": "execute_result"
    }
   ],
   "source": [
    "geodf = gpd.read_file(f\"./data/wze_observations_out_aoi.geojson\")\n",
    "\n",
    "geodf.head()"
   ]
  },
  {
   "cell_type": "code",
   "execution_count": 7,
   "metadata": {
    "execution": {
     "iopub.execute_input": "2022-06-07T18:52:59.579336Z",
     "iopub.status.busy": "2022-06-07T18:52:59.579336Z",
     "iopub.status.idle": "2022-06-07T18:53:00.034364Z",
     "shell.execute_reply": "2022-06-07T18:53:00.033364Z",
     "shell.execute_reply.started": "2022-06-07T18:52:59.579336Z"
    },
    "pycharm": {
     "name": "#%%\n"
    },
    "tags": []
   },
   "outputs": [
    {
     "data": {
      "text/html": [
       "<div>\n",
       "<style scoped>\n",
       "    .dataframe tbody tr th:only-of-type {\n",
       "        vertical-align: middle;\n",
       "    }\n",
       "\n",
       "    .dataframe tbody tr th {\n",
       "        vertical-align: top;\n",
       "    }\n",
       "\n",
       "    .dataframe thead th {\n",
       "        text-align: right;\n",
       "    }\n",
       "</style>\n",
       "<table border=\"1\" class=\"dataframe\">\n",
       "  <thead>\n",
       "    <tr style=\"text-align: right;\">\n",
       "      <th></th>\n",
       "      <th>id</th>\n",
       "      <th>count_trees</th>\n",
       "      <th>geometry</th>\n",
       "      <th>bbox</th>\n",
       "      <th>bbox_search</th>\n",
       "      <th>geometry_32632</th>\n",
       "    </tr>\n",
       "  </thead>\n",
       "  <tbody>\n",
       "    <tr>\n",
       "      <th>0</th>\n",
       "      <td>BW_18A</td>\n",
       "      <td>162</td>\n",
       "      <td>POLYGON ((8.37418 48.01841, 8.37414 48.01775, ...</td>\n",
       "      <td>[(8.354067836793147, 48.0116098913687), (8.374...</td>\n",
       "      <td>(8.354067836793147, 48.0116098913687, 8.374182...</td>\n",
       "      <td>POLYGON ((453333.515 5318536.165, 453329.904 5...</td>\n",
       "    </tr>\n",
       "    <tr>\n",
       "      <th>1</th>\n",
       "      <td>BW_13A</td>\n",
       "      <td>154</td>\n",
       "      <td>POLYGON ((9.66377 48.94567, 9.66371 48.94500, ...</td>\n",
       "      <td>[(9.643286471909962, 48.93897799103043), (9.66...</td>\n",
       "      <td>(9.643286471909962, 48.93897799103043, 9.66377...</td>\n",
       "      <td>POLYGON ((548602.512 5421628.042, 548598.900 5...</td>\n",
       "    </tr>\n",
       "    <tr>\n",
       "      <th>2</th>\n",
       "      <td>BW_11A</td>\n",
       "      <td>145</td>\n",
       "      <td>POLYGON ((8.53432 48.36555, 8.53428 48.36489, ...</td>\n",
       "      <td>[(8.514070792455046, 48.35876363600368), (8.53...</td>\n",
       "      <td>(8.514070792455046, 48.35876363600368, 8.53432...</td>\n",
       "      <td>POLYGON ((465508.674 5357035.904, 465505.062 5...</td>\n",
       "    </tr>\n",
       "    <tr>\n",
       "      <th>3</th>\n",
       "      <td>BY_90754</td>\n",
       "      <td>144</td>\n",
       "      <td>POLYGON ((11.89871 49.36668, 11.89862 49.36603...</td>\n",
       "      <td>[(11.878072593315167, 49.36020511473224), (11....</td>\n",
       "      <td>(11.878072593315167, 49.36020511473224, 11.898...</td>\n",
       "      <td>POLYGON ((710444.371 5472261.133, 710440.760 5...</td>\n",
       "    </tr>\n",
       "    <tr>\n",
       "      <th>4</th>\n",
       "      <td>ST_150061</td>\n",
       "      <td>144</td>\n",
       "      <td>POLYGON ((11.73014 52.43167, 11.73005 52.43101...</td>\n",
       "      <td>[(11.708106362545951, 52.42519178301072), (11....</td>\n",
       "      <td>(11.708106362545951, 52.42519178301072, 11.730...</td>\n",
       "      <td>POLYGON ((685599.773 5812557.953, 685596.162 5...</td>\n",
       "    </tr>\n",
       "  </tbody>\n",
       "</table>\n",
       "</div>"
      ],
      "text/plain": [
       "          id  count_trees                                           geometry  \\\n",
       "0     BW_18A          162  POLYGON ((8.37418 48.01841, 8.37414 48.01775, ...   \n",
       "1     BW_13A          154  POLYGON ((9.66377 48.94567, 9.66371 48.94500, ...   \n",
       "2     BW_11A          145  POLYGON ((8.53432 48.36555, 8.53428 48.36489, ...   \n",
       "3   BY_90754          144  POLYGON ((11.89871 49.36668, 11.89862 49.36603...   \n",
       "4  ST_150061          144  POLYGON ((11.73014 52.43167, 11.73005 52.43101...   \n",
       "\n",
       "                                                bbox  \\\n",
       "0  [(8.354067836793147, 48.0116098913687), (8.374...   \n",
       "1  [(9.643286471909962, 48.93897799103043), (9.66...   \n",
       "2  [(8.514070792455046, 48.35876363600368), (8.53...   \n",
       "3  [(11.878072593315167, 49.36020511473224), (11....   \n",
       "4  [(11.708106362545951, 52.42519178301072), (11....   \n",
       "\n",
       "                                         bbox_search  \\\n",
       "0  (8.354067836793147, 48.0116098913687, 8.374182...   \n",
       "1  (9.643286471909962, 48.93897799103043, 9.66377...   \n",
       "2  (8.514070792455046, 48.35876363600368, 8.53432...   \n",
       "3  (11.878072593315167, 49.36020511473224, 11.898...   \n",
       "4  (11.708106362545951, 52.42519178301072, 11.730...   \n",
       "\n",
       "                                      geometry_32632  \n",
       "0  POLYGON ((453333.515 5318536.165, 453329.904 5...  \n",
       "1  POLYGON ((548602.512 5421628.042, 548598.900 5...  \n",
       "2  POLYGON ((465508.674 5357035.904, 465505.062 5...  \n",
       "3  POLYGON ((710444.371 5472261.133, 710440.760 5...  \n",
       "4  POLYGON ((685599.773 5812557.953, 685596.162 5...  "
      ]
     },
     "execution_count": 7,
     "metadata": {},
     "output_type": "execute_result"
    }
   ],
   "source": [
    "def bounding_box(points):\n",
    "    x_coordinates, y_coordinates = zip(*points)\n",
    "\n",
    "    return [(min(x_coordinates), min(y_coordinates)), (max(x_coordinates), max(y_coordinates))]\n",
    "\n",
    "geodf[\"bbox\"] = geodf[\"geometry\"].apply(lambda x: bounding_box([point for point in x.exterior.coords]))\n",
    "geodf[\"bbox_search\"] = geodf[\"bbox\"].apply(lambda x: (x[0][0], x[0][1], x[1][0], x[1][1]))\n",
    "\n",
    "geodf_32632 = geodf.copy()\n",
    "geodf_32632 = geodf_32632.to_crs(32632)\n",
    "geodf_32632 = geodf_32632.rename(columns={\"geometry\":\"geometry_32632\"})\n",
    "geodf = geodf.merge(geodf_32632[[\"id\", \"geometry_32632\"]], on=\"id\")\n",
    "\n",
    "geodf.head()"
   ]
  },
  {
   "cell_type": "markdown",
   "metadata": {
    "pycharm": {
     "name": "#%% md\n"
    }
   },
   "source": [
    "#### Identfy Tiles"
   ]
  },
  {
   "cell_type": "code",
   "execution_count": 8,
   "metadata": {
    "execution": {
     "iopub.execute_input": "2022-06-07T18:47:25.458678Z",
     "iopub.status.busy": "2022-06-07T18:47:25.458678Z",
     "iopub.status.idle": "2022-06-07T18:51:45.839243Z",
     "shell.execute_reply": "2022-06-07T18:51:45.839243Z",
     "shell.execute_reply.started": "2022-06-07T18:47:25.458678Z"
    },
    "pycharm": {
     "name": "#%%\n"
    },
    "tags": []
   },
   "outputs": [
    {
     "name": "stdout",
     "output_type": "stream",
     "text": [
      "Tiles of interest for selected area: 32UMU 32UNV 32UPV 32UQV 32UPD 32UNU 32UPU 32UQU 33UUP 33UUQ 32UMA 32UMB 32UQA 32UNB 32UQC 33UUT 31UGU 32ULD 33UUR 32UNC 32UNF 32UPF 32UMV 32UND 31UGV 32ULE 32UME 32UQD 32UMD 32UNE 33UUU 33UVT 32ULB 32TNT 32UPE 32UQE 33UUV 32TQT 33TUN 32UMC 33UVV 33UVU 32TLT 32TMT 32UPA 32ULC 32ULU 32UNA 32UMF 31UGS 32UPC 32TPT 31UGT 31UGR 32ULA\n"
     ]
    }
   ],
   "source": [
    "time_range = \"2016-05-01/2016-08-31\"\n",
    "\n",
    "search_mapping = dict()\n",
    "\n",
    "for _i, _r in geodf.iterrows():\n",
    "    search = catalog.search(\n",
    "        collections=[COLLECTION], \n",
    "        bbox=_r[\"bbox_search\"], \n",
    "        datetime=time_range\n",
    "    )\n",
    "\n",
    "    # save search results into geojson file\n",
    "    search.get_all_items().save_object(f\"{BASE_DIR}/GeoJSON/{AOI}_all_tiles.geojson\")\n",
    "    # load geojson file to get all attributes\n",
    "    gf = gpd.read_file(f\"{BASE_DIR}/GeoJSON/{AOI}_all_tiles.geojson\")\n",
    "\n",
    "    df_tiles = gf.groupby(\"s2:mgrs_tile\").agg({\"geometry\": lambda x:x.value_counts().index[0]}).reset_index()\n",
    "\n",
    "    tile_names = list(df_tiles.loc[df_tiles.intersects(_r[\"geometry\"])][\"s2:mgrs_tile\"].unique())\n",
    "    \n",
    "    for tile in tile_names:\n",
    "        if tile in search_mapping:\n",
    "            search_mapping[tile].append(_r[\"id\"])\n",
    "        else:\n",
    "            search_mapping[tile] = [_r[\"id\"]]\n",
    "            \n",
    "print(f\"Tiles of interest for selected area: {' '.join(list(search_mapping.keys()))}\")"
   ]
  },
  {
   "cell_type": "markdown",
   "metadata": {
    "pycharm": {
     "name": "#%% md\n"
    }
   },
   "source": [
    "## Data Preparation\n",
    "- Download data\n",
    "- Remove clouds\n",
    "- Calculate vegetation index\n",
    "- Save data by month\n",
    "- Combine data by year\n",
    "- Clip AOI\n",
    "- Save AOI\n",
    "\n",
    "parallize using DASK"
   ]
  },
  {
   "cell_type": "code",
   "execution_count": 9,
   "metadata": {
    "execution": {
     "iopub.execute_input": "2022-06-07T18:51:45.854873Z",
     "iopub.status.busy": "2022-06-07T18:51:45.854873Z",
     "iopub.status.idle": "2022-06-07T18:51:45.886124Z",
     "shell.execute_reply": "2022-06-07T18:51:45.886124Z",
     "shell.execute_reply.started": "2022-06-07T18:51:45.854873Z"
    },
    "pycharm": {
     "name": "#%%\n"
    },
    "tags": []
   },
   "outputs": [],
   "source": [
    "def get_scenes_in_year(year: str, bbox_search)->pystac_client.item_search.ItemSearch:\n",
    "    time_range = f\"{year}-05-01/{year}-08-31\"\n",
    "\n",
    "    search = catalog.search(\n",
    "        collections=[COLLECTION], \n",
    "        bbox=bbox_search, \n",
    "        datetime=time_range\n",
    "    )\n",
    "\n",
    "    search.get_all_items().save_object(f\"{BASE_DIR}/GeoJSON/{AOI}_{year}.geojson\")\n",
    "\n",
    "    print(\"-\"*75)\n",
    "    print(f'Total: {len([i for i in search.get_items()])} matches from May to August {year}')\n",
    "    print(\"-\"*75)\n",
    "    return search\n",
    "\n",
    "@dask.delayed\n",
    "def calc_vegetation_index(intake_stac_scene: intake_stac.catalog.StacItem, search_item)->(xarray.Dataset, str):\n",
    "    try:\n",
    "        # Create DataArray using Raster data from RED and NIR band\n",
    "        da_red = rioxarray.open_rasterio(pc.sign(intake_stac_scene.B04.metadata[\"href\"]))\n",
    "        da_nir = rioxarray.open_rasterio(pc.sign(intake_stac_scene.B08.metadata[\"href\"]))\n",
    "        scl = rioxarray.open_rasterio(pc.sign(intake_stac_scene.SCL.metadata[\"href\"]))\n",
    "\n",
    "        scl_high = scl.reindex(x=da_nir.x, y=da_nir.y, method='nearest')\n",
    "        no_cloud_map = (scl_high[0] != 8) & (scl_high[0] != 9) & (scl_high[0] != 10) & (scl_high[0] != 3)\n",
    "\n",
    "        # Calculate NDVI from float32 (f4) arrays\n",
    "        nir_values = da_nir.values[0].astype('f4')\n",
    "        red_values = da_red.values[0].astype('f4')\n",
    "        ndvi = (nir_values - red_values) / (nir_values + red_values)\n",
    "        evi2 = 2.5 * (nir_values - red_values) / (nir_values + 2.4 * red_values + 1.0)\n",
    "        # include nan after these have been lost due to evi2 calculation\n",
    "        evi2 = np.where(~np.isnan(ndvi), evi2, np.nan)\n",
    "\n",
    "        ds = xarray.Dataset(\n",
    "            data_vars=dict(\n",
    "                ndvi=([\"x\", \"y\"], np.where(no_cloud_map, ndvi, np.nan)),\n",
    "                evi2=([\"x\", \"y\"], np.where(no_cloud_map, evi2, np.nan))\n",
    "            ),\n",
    "            coords=dict(\n",
    "                x=([\"x\"], da_nir.x.values),\n",
    "                y=([\"y\"], da_nir.y.values)\n",
    "            )\n",
    "        )\n",
    "\n",
    "        #ds = ds.rio.write_crs(int(str(da_nir.rio.crs).split(\":\")[-1]))\n",
    "        ds = ds.rio.write_crs(32632)\n",
    "\n",
    "        #if intake_stac_scene.metadata[\"date\"].month == 5 and intake_stac_scene.metadata[\"date\"].year == 2016:\n",
    "        #    ds.to_netcdf(f\"{BASE_DIR}/scenes/{intake_stac_scene.name}.nc\", 'w', engine='netcdf4')\n",
    "\n",
    "        # return dataset with ndvi and evi2 and scene date\n",
    "        del ndvi, evi2, da_red, da_nir, nir_values, red_values, scl, scl_high, no_cloud_map\n",
    "\n",
    "        # rio clip bounding box\n",
    "        ds = ds.rio.clip(search_item[\"geometry_32632\"])\n",
    "        \n",
    "        return ds, intake_stac_scene.metadata[\"date\"]\n",
    "    except: # (rasterio.RasterioIOError, rasterio.NoDataInBounds)\n",
    "        return None, None\n",
    "    \n",
    "def process_scenes(intakeStacItemCollection: intake_stac.catalog.StacItemCollection, seach_item)->xarray.Dataset:\n",
    "    #scenes = []\n",
    "    date_scenes = []\n",
    "    ds_scenes = []\n",
    "\n",
    "    delayed_tasks = []\n",
    "    for s in range(len(list(intakeStacItemCollection))):\n",
    "        print(f'Current scene ({s}) {list(intakeStacItemCollection)[s]} started at {str(datetime.datetime.now())}')\n",
    "        delayed_tasks.append(calc_vegetation_index(intakeStacItemCollection[list(intakeStacItemCollection)[s]], seach_item))\n",
    "    \n",
    "    processed_index = compute(*delayed_tasks)\n",
    "    \n",
    "    ds_scenes, date_scenes = zip(*processed_index)\n",
    "\n",
    "    ds_scenes = list(filter(None, ds_scenes))\n",
    "    date_scenes = list(filter(None, date_scenes))\n",
    "\n",
    "    for i, ds in enumerate(ds_scenes):\n",
    "        if ds[\"ndvi\"].shape[0] == 0 or ds[\"ndvi\"].shape[1] == 0:\n",
    "            del ds_scenes[i]\n",
    "            del date_scenes[i]\n",
    "\n",
    "    try:\n",
    "        #ds_concat_max = xarray.concat([ds_scene.to_array(name=\"vegetation index\", dim=\"index\") for ds_scene in ds_scenes], dim=xarray.Variable('date', pd.to_datetime(date_scenes))).to_dataset(dim=\"index\").groupby(\"date.month\").max()\n",
    "        ds_concat_max = xarray.concat(ds_scenes, dim=xarray.Variable('date', pd.to_datetime(date_scenes))).groupby('date.year').max()\n",
    "    except ValueError:\n",
    "        ds_concat_max = None\n",
    "        \n",
    "    # RAM mgmt\n",
    "    del processed_index, delayed_tasks\n",
    "    ds_scenes = []\n",
    "    date_scenes = []\n",
    "\n",
    "    return ds_concat_max"
   ]
  },
  {
   "cell_type": "code",
   "execution_count": null,
   "metadata": {
    "pycharm": {
     "name": "#%%\n"
    },
    "scrolled": true,
    "tags": []
   },
   "outputs": [],
   "source": [
    "years = [str(year) for year in range(2015, 2021)]\n",
    "\n",
    "for tile, observation_ids in search_mapping.items():\n",
    "    if tile in list(search_mapping.keys()):\n",
    "        for year in years:\n",
    "            observations_in_tile = geodf.loc[geodf.id.isin(observation_ids)]\n",
    "            bbox_search = observations_in_tile.iloc[0][\"bbox_search\"]\n",
    "\n",
    "            # get scenes from planetary computer\n",
    "            search = get_scenes_in_year(year, bbox_search)\n",
    "            # create pyStacItemCollection\n",
    "            pyStacItemCollection = search.get_all_items()\n",
    "\n",
    "            items_list = np.array([item.to_dict() for item in pyStacItemCollection])\n",
    "\n",
    "            item_list_tile_part = list()\n",
    "            for item_in_list in items_list:\n",
    "                if tile in item_in_list[\"id\"]:\n",
    "                    item_list_tile_part.append(item_in_list)\n",
    "\n",
    "            # pystac to stacstac item\n",
    "            # necessary to use within intake_stac collection\n",
    "            stacStacItems = [Item(sentinel_item) for sentinel_item in item_list_tile_part]\n",
    "\n",
    "            # items to stac item collection\n",
    "            stacStacItemCollection = ItemCollection(stacStacItems)\n",
    "\n",
    "            # StacItemCollection to filter Catalog by Item Name\n",
    "            intakeStacItemCollection = intake_stac.catalog.StacItemCollection(stacStacItemCollection)\n",
    "\n",
    "            # get dataset (max index values)\n",
    "            ds = process_scenes(intakeStacItemCollection, observations_in_tile)\n",
    "\n",
    "            try:\n",
    "                # export to nc file\n",
    "                ds.to_netcdf(f\"{BASE_DIR}/year/{AOI}_{year}_{tile}.nc\", 'w', engine='netcdf4')\n",
    "            except:\n",
    "                pass\n",
    "\n",
    "            del ds, stacStacItems, stacStacItemCollection, intakeStacItemCollection"
   ]
  }
 ],
 "metadata": {
  "interpreter": {
   "hash": "724e6f39cdbf3b5e7001e4ddb41fea5ea8e778b88b5b3cf46118f48ff2eef77f"
  },
  "kernelspec": {
   "display_name": "py38thesis",
   "language": "python",
   "name": "py38thesis"
  },
  "language_info": {
   "codemirror_mode": {
    "name": "ipython",
    "version": 3
   },
   "file_extension": ".py",
   "mimetype": "text/x-python",
   "name": "python",
   "nbconvert_exporter": "python",
   "pygments_lexer": "ipython3",
   "version": "3.8.12"
  }
 },
 "nbformat": 4,
 "nbformat_minor": 4
}